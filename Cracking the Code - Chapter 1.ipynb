{
 "cells": [
  {
   "cell_type": "markdown",
   "metadata": {},
   "source": [
    "### 1.1 determine if a string has all unique characters."
   ]
  },
  {
   "cell_type": "code",
   "execution_count": 113,
   "metadata": {
    "collapsed": true
   },
   "outputs": [],
   "source": [
    "def is_unique(s):\n",
    "    m = {}\n",
    "    for letter in s:\n",
    "        if m.get(letter, None):\n",
    "            return False\n",
    "        m[letter]=1\n",
    "        \n",
    "    return True     "
   ]
  },
  {
   "cell_type": "code",
   "execution_count": 4,
   "metadata": {
    "collapsed": true
   },
   "outputs": [],
   "source": [
    "assert is_unique('testing') == False\n",
    "assert is_unique('what') == True"
   ]
  },
  {
   "cell_type": "markdown",
   "metadata": {},
   "source": [
    "### 1.2 reverse a string"
   ]
  },
  {
   "cell_type": "code",
   "execution_count": 42,
   "metadata": {
    "collapsed": true
   },
   "outputs": [],
   "source": [
    "## reverse a string\n",
    "\n",
    "def reverse_string(s):\n",
    "    return s[::-1]\n",
    "\n",
    "def reverse_string_no_datastructure(s):\n",
    "    s = list(s)\n",
    "    size = len(s)\n",
    "    for i in range(size/2):\n",
    "        a = s[i]\n",
    "        s[i] = s[-(i+1)]\n",
    "        s[-(i+1)] = a\n",
    "    \n",
    "    return ''.join(s)"
   ]
  },
  {
   "cell_type": "code",
   "execution_count": 43,
   "metadata": {
    "collapsed": true
   },
   "outputs": [],
   "source": [
    "assert reverse_string('abcd') == 'dcba'\n",
    "assert reverse_string_no_datastructure('abcd') == 'dcba'"
   ]
  },
  {
   "cell_type": "markdown",
   "metadata": {},
   "source": [
    "### 1.3  remove duplicate characters in a string without using any additional buffer. (1 or 2 variables is ok)"
   ]
  },
  {
   "cell_type": "code",
   "execution_count": 107,
   "metadata": {
    "collapsed": true
   },
   "outputs": [],
   "source": [
    "def shift_array(s, index):\n",
    "    for i in range(index, len(s)):\n",
    "        if s[i] != -1:\n",
    "            s[index] = s[i]\n",
    "            s[i] = -1\n",
    "            return s\n",
    "\n",
    "\n",
    "def search_array(s, value, index):\n",
    "    for i in range(index, len(s)):\n",
    "        if s[i] == value:\n",
    "            s[i] = -1\n",
    "    \n",
    "    return s\n",
    "\n",
    "def remove_duplicates(s, debug=False):\n",
    "    s = list(s)\n",
    "    \n",
    "    # replace duplicates with a -1\n",
    "    for i in range(len(s)):\n",
    "        if s[i] != -1:\n",
    "            search_array(s, s[i], i+1)\n",
    "    if debug:\n",
    "        print s\n",
    "    \n",
    "    #shift -1 to the end of the array\n",
    "    for i in range(len(s)):\n",
    "        if s[i] == -1:\n",
    "            shift_array(s, i)\n",
    "    if debug:\n",
    "        print s\n",
    "    \n",
    "    #return the array up to -1 as a string\n",
    "    for i in range(len(s)):\n",
    "        if s[i] == -1:\n",
    "            return ''.join(s[:i])\n",
    "    \n",
    "    return ''.join(s)"
   ]
  },
  {
   "cell_type": "code",
   "execution_count": 112,
   "metadata": {},
   "outputs": [
    {
     "name": "stdout",
     "output_type": "stream",
     "text": [
      "['h', 'e', 'l', -1, 'o', 'w', -1, 'r', -1, 'd']\n",
      "['h', 'e', 'l', 'o', 'w', 'r', 'd', -1, -1, -1]\n"
     ]
    },
    {
     "data": {
      "text/plain": [
       "'helowrd'"
      ]
     },
     "execution_count": 112,
     "metadata": {},
     "output_type": "execute_result"
    }
   ],
   "source": [
    "remove_duplicates('helloworld', debug=True)"
   ]
  },
  {
   "cell_type": "code",
   "execution_count": 108,
   "metadata": {
    "collapsed": true
   },
   "outputs": [],
   "source": [
    "assert shift_array(['a',-1,'b', -1,'c'], 1) == ['a','b',-1,-1,'c']\n",
    "\n",
    "assert search_array(['a','a','b','b','c','a'], 'a', 1) ==  ['a',-1,'b','b','c',-1]"
   ]
  },
  {
   "cell_type": "code",
   "execution_count": 109,
   "metadata": {
    "collapsed": true
   },
   "outputs": [],
   "source": [
    "assert remove_duplicates('asdfasfas') == 'asdf'\n",
    "assert remove_duplicates('helloworld') == 'helowrd'"
   ]
  },
  {
   "cell_type": "markdown",
   "metadata": {},
   "source": [
    "### 1.4 check if two strings are anagrams"
   ]
  },
  {
   "cell_type": "code",
   "execution_count": 114,
   "metadata": {
    "collapsed": true
   },
   "outputs": [],
   "source": [
    "def is_anagram(s1, s2):\n",
    "    if s1 == s2[::-1]:\n",
    "        return True\n",
    "    \n",
    "    return False"
   ]
  },
  {
   "cell_type": "code",
   "execution_count": 116,
   "metadata": {
    "collapsed": true
   },
   "outputs": [],
   "source": [
    "assert is_anagram('abcd', 'dcba') == True\n",
    "assert is_anagram('abcd', 'abcd') == False"
   ]
  },
  {
   "cell_type": "markdown",
   "metadata": {},
   "source": [
    "### 1.5 replace all spaces in  a string with '%20'"
   ]
  },
  {
   "cell_type": "code",
   "execution_count": 118,
   "metadata": {},
   "outputs": [
    {
     "data": {
      "text/plain": [
       "'hellow%20world%20now'"
      ]
     },
     "execution_count": 118,
     "metadata": {},
     "output_type": "execute_result"
    }
   ],
   "source": [
    "#python has this build in\n",
    "s = 'hellow world now'\n",
    "s.replace(' ', '%20')"
   ]
  },
  {
   "cell_type": "markdown",
   "metadata": {},
   "source": [
    "### 1.6 rotate an NxN matrix by 90 degreese."
   ]
  },
  {
   "cell_type": "code",
   "execution_count": 163,
   "metadata": {
    "collapsed": true
   },
   "outputs": [],
   "source": [
    "import numpy as np\n",
    "\n",
    "def make_array(N):\n",
    "    return np.array([range(N) for i in range(N)])\n",
    "\n",
    "def rotate_array(M):\n",
    "    M2 = make_array(M.shape[0])\n",
    "    for i in  range(M.shape[0]):\n",
    "        M2[i] = M[:,i]\n",
    "    return M2"
   ]
  },
  {
   "cell_type": "code",
   "execution_count": 173,
   "metadata": {
    "collapsed": true
   },
   "outputs": [],
   "source": [
    "assert np.array_equal(rotate_array(make_array(4)), np.array([[0, 0, 0, 0], [1, 1, 1, 1], [2, 2, 2, 2], [3, 3, 3, 3]]))"
   ]
  }
 ],
 "metadata": {
  "kernelspec": {
   "display_name": "Python 2",
   "language": "python",
   "name": "python2"
  },
  "language_info": {
   "codemirror_mode": {
    "name": "ipython",
    "version": 2
   },
   "file_extension": ".py",
   "mimetype": "text/x-python",
   "name": "python",
   "nbconvert_exporter": "python",
   "pygments_lexer": "ipython2",
   "version": "2.7.6"
  }
 },
 "nbformat": 4,
 "nbformat_minor": 2
}

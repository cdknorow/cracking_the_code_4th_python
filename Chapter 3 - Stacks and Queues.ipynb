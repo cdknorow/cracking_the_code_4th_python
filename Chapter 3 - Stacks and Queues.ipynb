{
 "cells": [
  {
   "cell_type": "markdown",
   "metadata": {
    "collapsed": true
   },
   "source": [
    "## Stack"
   ]
  },
  {
   "cell_type": "code",
   "execution_count": 291,
   "metadata": {},
   "outputs": [
    {
     "name": "stdout",
     "output_type": "stream",
     "text": [
      "[1, 2, 3]\n",
      "[1, 2]\n"
     ]
    }
   ],
   "source": [
    "#lets cheat a bit python has stacks build in as array data structures\n",
    "class Stack(object):\n",
    "    def __init__(self):\n",
    "        self._stack = []\n",
    "        \n",
    "    def pop(self):\n",
    "        if self._stack != []:\n",
    "            return self._stack.pop()\n",
    "            \n",
    "        \n",
    "    def push(self, value):\n",
    "        self._stack.append(value)\n",
    "        \n",
    "    def peek(self):\n",
    "        if self._stack != []:\n",
    "            return self._stack[-1]\n",
    "        return None\n",
    "    \n",
    "    \n",
    "stack = Stack()\n",
    "stack.push(1)\n",
    "stack.push(2)\n",
    "stack.push(3)\n",
    "print stack._stack\n",
    "stack.pop()\n",
    "print stack._stack"
   ]
  },
  {
   "cell_type": "code",
   "execution_count": 116,
   "metadata": {},
   "outputs": [
    {
     "name": "stdout",
     "output_type": "stream",
     "text": [
      "[1, 2, 3]\n",
      "[2, 3]\n"
     ]
    }
   ],
   "source": [
    "#the same can be done for the queue.\n",
    "class Queue(object):\n",
    "    def __init__(self):\n",
    "        self._queue = []\n",
    "        \n",
    "    def dequeue(self):\n",
    "        if self._queue != []:\n",
    "            return self._queue.pop(0)\n",
    "        \n",
    "    def enqueue(self, value):\n",
    "        self._queue.append(value)\n",
    "        \n",
    "    def peek(self):\n",
    "        if self._queue != []:\n",
    "            return self._queue[0]\n",
    "        \n",
    "        return None\n",
    "    \n",
    "    \n",
    "queue = Queue()\n",
    "queue.enqueue(1)\n",
    "queue.enqueue(2)\n",
    "queue.enqueue(3)\n",
    "print queue._queue\n",
    "queue.dequeue()\n",
    "print queue._queue"
   ]
  },
  {
   "cell_type": "markdown",
   "metadata": {},
   "source": [
    "### 3.1 Describe how a single array could implement 3 stacks."
   ]
  },
  {
   "cell_type": "code",
   "execution_count": null,
   "metadata": {
    "collapsed": true
   },
   "outputs": [],
   "source": [
    "access to the stack can be %3, %3+1, %3+2"
   ]
  },
  {
   "cell_type": "markdown",
   "metadata": {},
   "source": [
    "### 3.2 how to define stack that min operates in o(1) time."
   ]
  },
  {
   "cell_type": "code",
   "execution_count": 39,
   "metadata": {
    "collapsed": true
   },
   "outputs": [],
   "source": [
    "# o(1) access o(n) data\n",
    "class MinStack(object):\n",
    "\n",
    "    def __init__(self):\n",
    "        \"\"\"\n",
    "        initialize your data structure here.\n",
    "        \"\"\"\n",
    "        self.min = []\n",
    "        self.stack = []\n",
    "\n",
    "    def push(self, x):\n",
    "        \"\"\"\n",
    "        :type x: int\n",
    "        :rtype: void\n",
    "        \"\"\"\n",
    "        if not self.min or self.min[-1] >= x:\n",
    "            self.min.append(x)\n",
    "        self.stack.append(x)\n",
    "        \n",
    "\n",
    "    def pop(self):\n",
    "        \"\"\"\n",
    "        :rtype: void\n",
    "        \"\"\"\n",
    "\n",
    "        if self.top() == self.getMin():\n",
    "            self.min.pop()\n",
    "            \n",
    "        self.stack.pop()\n",
    "\n",
    "    def top(self):\n",
    "        \"\"\"\n",
    "        :rtype: int\n",
    "        \"\"\"\n",
    "        return self.stack[-1]\n",
    "        \n",
    "\n",
    "    def getMin(self):\n",
    "        \"\"\"\n",
    "        :rtype: int\n",
    "        \"\"\"\n",
    "        if self.min is not None:\n",
    "            return self.min[-1]\n",
    "        \n",
    "        return None\n",
    "        "
   ]
  },
  {
   "cell_type": "code",
   "execution_count": 42,
   "metadata": {
    "collapsed": true
   },
   "outputs": [],
   "source": [
    "obj = MinStack()\n",
    "obj.push(-2)\n",
    "obj.push(-3)\n",
    "obj.push(-2)\n",
    "assert obj.top() == -2\n",
    "assert obj.getMin() == -3\n",
    "obj.pop()\n",
    "assert obj.top() == -3\n",
    "assert obj.getMin() == -3\n",
    "obj.pop()\n",
    "assert obj.top() == -2\n",
    "assert obj.getMin() == -2"
   ]
  },
  {
   "cell_type": "markdown",
   "metadata": {
    "collapsed": true
   },
   "source": [
    "### 3.3\n",
    "Implement a data structure SetOfStacks that mimics this   SetOfStacks should be composed of several stacks, and should create a new stack once the previous one exceeds capacity   SetOfStacks push() and SetOfStacks pop() should behave identically to a single stack (that is, pop() should return the same values as it would if there were just a single stack) "
   ]
  },
  {
   "cell_type": "code",
   "execution_count": 69,
   "metadata": {},
   "outputs": [],
   "source": [
    "class SetOfStacks:\n",
    "    def __init__(self, max_stack=10):\n",
    "        self.max_stack = max_stack\n",
    "        self._stack_list = [Stack()]\n",
    "        self._stack_size = [0]\n",
    "        \n",
    "    def get_stack_size(self):\n",
    "        \"\"\" get the number of stacks\"\"\"\n",
    "        return len(self._stack_size)-1\n",
    "    \n",
    "    def check_stack(self, stack_index):\n",
    "        if self._stack_size[stack_index] == 0:\n",
    "            self._stack_size.pop()\n",
    "            self._stack_list.pop()\n",
    "            stack_index -= 1\n",
    "            \n",
    "            return False, stack_index\n",
    "        \n",
    "        return True, stack_index\n",
    "            \n",
    "    def push(self, value):\n",
    "        stack_index = self.get_stack_size()\n",
    "        self._stack_list[stack_index].push(value)\n",
    "        self._stack_size[stack_index] += 1\n",
    "        \n",
    "        # add a new stack when excededs a certain size.\n",
    "        if self._stack_size[stack_index] == self.max_stack:\n",
    "            self._stack_size.append(0)\n",
    "            self._stack_list.append(Stack())\n",
    "            \n",
    "    def pop(self):\n",
    "        stack_index = self.get_stack_size()\n",
    "\n",
    "        # remove the top stack when it has be reduced to 0 length.\n",
    "        removed, stack_index = self.check_stack(stack_index)\n",
    "        \n",
    "        #because we can pop stuff in the midle with popAt, this \n",
    "        #needs to check if others are also 0\n",
    "        while removed is False:\n",
    "            removed, stack_index = self.check_stack(stack_index)\n",
    "                           \n",
    "        self._stack_size[stack_index] -= 1\n",
    "        return self._stack_list[stack_index].pop()\n",
    "        \n",
    "    def popAt(self, index):\n",
    "        if index > self.get_stack_size():\n",
    "            print \"Index is greater than stack size\"\n",
    "            return\n",
    "        \n",
    "        if self._stack_size[index] > 0:\n",
    "            self._stack_size[index] -= 1\n",
    "            return self._stack_list[index].pop()\n",
    "        \n",
    "        print \"Stack at index has no more elmenets\"\n",
    "        return None\n",
    "        \n",
    "        \n",
    "              "
   ]
  },
  {
   "cell_type": "code",
   "execution_count": 62,
   "metadata": {},
   "outputs": [],
   "source": [
    "s = SetOfStacks()\n",
    "for i in range(11):\n",
    "    s.push(i)\n",
    "    \n",
    "assert s._stack_size == [10,1]\n",
    "s.pop()\n",
    "assert s._stack_size == [10,0]\n",
    "s.pop()\n",
    "assert s._stack_size == [9]"
   ]
  },
  {
   "cell_type": "code",
   "execution_count": 68,
   "metadata": {},
   "outputs": [
    {
     "name": "stdout",
     "output_type": "stream",
     "text": [
      "Stack at index has no more elmenets\n"
     ]
    }
   ],
   "source": [
    "s = SetOfStacks()\n",
    "for i in range(21):\n",
    "    s.push(i)\n",
    "\n",
    "assert s._stack_size == [10,10,1]\n",
    "s.popAt(1)\n",
    "assert s._stack_size == [10,9,1]\n",
    "for i in range(9):\n",
    "    s.popAt(1)\n",
    "assert s._stack_size == [10,0,1]\n",
    "s.popAt(1)\n",
    "s.pop()\n",
    "s.pop()\n",
    "assert s._stack_size == [9]"
   ]
  },
  {
   "cell_type": "markdown",
   "metadata": {},
   "source": [
    "### 3.4 Implement Tower of Honoi using 3 stacks"
   ]
  },
  {
   "cell_type": "code",
   "execution_count": 256,
   "metadata": {},
   "outputs": [],
   "source": [
    "class tower_honoi:\n",
    "    def __init__(self, N):\n",
    "        self.N = N\n",
    "    \n",
    "        self.stack_list = [Stack(), Stack(), Stack()]\n",
    "\n",
    "        for i in range(N, 0, -1):\n",
    "            self.stack_list[0].push(i)\n",
    "    \n",
    "    def print_tower(self):\n",
    "        for stack in self.stack_list:\n",
    "            print stack._stack\n",
    "        \n",
    "    def move(self, a, b):\n",
    "        \n",
    "        #impose some simple rules\n",
    "        if self.stack_list[a].peek() is None:\n",
    "            return False\n",
    "        \n",
    "        if self.stack_list[b].peek() is None or self.stack_list[b].peek() > self.stack_list[a].peek():\n",
    "            self.stack_list[b].push(self.stack_list[a].pop())\n",
    "            return True\n",
    "        \n",
    "        return False\n",
    "           \n",
    "    def move_stack(self, disk, source, dest, spare):\n",
    "        if disk == 1:\n",
    "            self.move(source, dest)\n",
    "        \n",
    "        else:\n",
    "            self.move_stack(disk-1, source, spare, dest)\n",
    "            self.move(source, dest)\n",
    "            self.move_stack(disk-1, spare, dest, source)\n",
    "        "
   ]
  },
  {
   "cell_type": "code",
   "execution_count": 255,
   "metadata": {},
   "outputs": [
    {
     "name": "stdout",
     "output_type": "stream",
     "text": [
      "[10, 9, 8, 7, 6, 5, 4, 3, 2, 1]\n",
      "[]\n",
      "[]\n",
      "\"\"\"\"\"\"\"\"\"\"\"\"\"\"\"\"\"\"\n",
      "[]\n",
      "[]\n",
      "[10, 9, 8, 7, 6, 5, 4, 3, 2, 1]\n"
     ]
    }
   ],
   "source": [
    "tower = tower_honoi(10)\n",
    "tower.print_tower()\n",
    "print '\"\"\"\"\"\"\"\"\"\"\"\"\"\"\"\"\"\"'\n",
    "tower.move_stack(10, 0, 2, 1)\n",
    "tower.print_tower()"
   ]
  },
  {
   "cell_type": "markdown",
   "metadata": {},
   "source": [
    "### 3.5 Implment a queue using two stacks"
   ]
  },
  {
   "cell_type": "code",
   "execution_count": 275,
   "metadata": {},
   "outputs": [],
   "source": [
    "class MyQueue:\n",
    "    def __init__(self):\n",
    "        self._enqueue = Stack()\n",
    "        self._dequeue = Stack()\n",
    "    \n",
    "    def push(self, value):\n",
    "        self._enqueue.push(value)\n",
    "        \n",
    "    def dequeue(self):\n",
    "        if self._dequeue.peek() is None:\n",
    "            while self._enqueue.peek():\n",
    "                self._dequeue.push(self._enqueue.pop())\n",
    "                \n",
    "        return self._dequeue.pop()"
   ]
  },
  {
   "cell_type": "code",
   "execution_count": 288,
   "metadata": {},
   "outputs": [],
   "source": [
    "queue = MyQueue()\n",
    "for i in range(10):\n",
    "    queue.push(i)\n",
    "    \n",
    "assert queue.dequeue() == 1\n",
    "assert queue.dequeue() == 2\n",
    "queue.push(11)\n",
    "assert queue.dequeue() == 3"
   ]
  },
  {
   "cell_type": "markdown",
   "metadata": {},
   "source": [
    "### 3.6 Write a program to sort a stack using only push, pop, peek and isEmpty"
   ]
  },
  {
   "cell_type": "code",
   "execution_count": 402,
   "metadata": {},
   "outputs": [],
   "source": [
    "def sort_stack(stack):\n",
    "    aux = Stack()\n",
    "    aux.push(stack.pop())\n",
    "    \n",
    "    while stack.peek() is not None:\n",
    "        if stack.peek() > aux.peek():\n",
    "            aux.push(stack.pop())\n",
    "            print aux._stack\n",
    "        else:\n",
    "            tmp = stack.pop()\n",
    "            while aux.peek() is not None and tmp < aux.peek():\n",
    "                stack.push(aux.pop())\n",
    "            aux.push(tmp)\n",
    "        \n",
    "    return aux._stack\n",
    "    "
   ]
  },
  {
   "cell_type": "code",
   "execution_count": 408,
   "metadata": {},
   "outputs": [
    {
     "name": "stdout",
     "output_type": "stream",
     "text": [
      "[6]\n",
      "[2, 6]\n",
      "[2, 6, 8]\n",
      "[2, 6, 8, 9]\n",
      "[2, 3, 6]\n",
      "[2, 3, 6, 8]\n",
      "[2, 3, 6, 8, 9]\n",
      "[1, 2]\n",
      "[1, 2, 3]\n",
      "[1, 2, 3, 6]\n",
      "[1, 2, 3, 6, 8]\n",
      "[1, 2, 3, 6, 8, 9]\n"
     ]
    }
   ],
   "source": [
    "M = [1,3,9,8,2,6]\n",
    "\n",
    "stack = Stack()\n",
    "for i in M:\n",
    "    stack.push(i)\n",
    "    \n",
    "assert sort_stack(stack) == sorted(M)"
   ]
  }
 ],
 "metadata": {
  "kernelspec": {
   "display_name": "Python 2",
   "language": "python",
   "name": "python2"
  },
  "language_info": {
   "codemirror_mode": {
    "name": "ipython",
    "version": 2
   },
   "file_extension": ".py",
   "mimetype": "text/x-python",
   "name": "python",
   "nbconvert_exporter": "python",
   "pygments_lexer": "ipython2",
   "version": "2.7.6"
  }
 },
 "nbformat": 4,
 "nbformat_minor": 2
}

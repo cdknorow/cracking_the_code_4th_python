{
 "cells": [
  {
   "cell_type": "markdown",
   "metadata": {},
   "source": [
    "###  Simple python Implementation of linked list"
   ]
  },
  {
   "cell_type": "code",
   "execution_count": 65,
   "metadata": {
    "collapsed": true
   },
   "outputs": [],
   "source": [
    "class BaseNode:\n",
    "    def __init__(self, value):\n",
    "        self._value = value\n",
    "        self._next = None\n",
    "    \n",
    "    def append_at_tail(self, value):\n",
    "        n = self\n",
    "        while n._next is not None:\n",
    "            n = n._next\n",
    "        \n",
    "        n._next = Node(value)\n",
    "\n",
    "    ## Note: the following functions don't need to be part of the class, just here for convinence\n",
    "    def delete_at_index(self, index):\n",
    "        n = self\n",
    "        for i in range(index-1):\n",
    "            if n._next is None:\n",
    "                print \"index is out of range.\"\n",
    "                return None\n",
    "            n = n._next\n",
    "\n",
    "        n._next = n._next._next\n",
    "\n",
    "    ## Note: the following functions don't need to be part of the class, just here for convinence\n",
    "    def get_value_at_index(self, index):\n",
    "        n = self\n",
    "        for i in range(index):\n",
    "            if n._next is None:\n",
    "                print \"index is out of range.\"\n",
    "                return None\n",
    "            n = n._next\n",
    "\n",
    "        return n._value\n",
    "\n",
    "    def print_values(self):\n",
    "        n = self\n",
    "        print n._value\n",
    "        while n._next is not None:\n",
    "            n = n._next\n",
    "            print n._value\n",
    "\n",
    "    def return_values_as_list(self):\n",
    "        M = []\n",
    "        n = self\n",
    "        M.append(n._value)\n",
    "        while n._next is not None:\n",
    "            n = n._next\n",
    "            M.append(n._value)\n",
    "\n",
    "        return M\n",
    "\n",
    "def build_linked_list(node, M):\n",
    "    n = node(M[0])\n",
    "    for i in M[1:]:\n",
    "        n.append_at_tail(i)\n",
    "    return n"
   ]
  },
  {
   "cell_type": "code",
   "execution_count": 55,
   "metadata": {},
   "outputs": [
    {
     "name": "stdout",
     "output_type": "stream",
     "text": [
      "index is out of range.\n"
     ]
    }
   ],
   "source": [
    "# Simple Tests\n",
    "m = build_linked_list(BaseNode, [10,20,30,40,50])\n",
    "\n",
    "assert m.return_values_as_list() == [10,20,30,40,50]\n",
    "\n",
    "m.delete_at_index(2)\n",
    "assert m.return_values_as_list() == [10,20,40,50]\n",
    "\n",
    "m.delete_at_index(100)"
   ]
  },
  {
   "cell_type": "markdown",
   "metadata": {},
   "source": [
    "### 2.1 remove duplicates from unsorted linked list"
   ]
  },
  {
   "cell_type": "code",
   "execution_count": 57,
   "metadata": {},
   "outputs": [],
   "source": [
    "class Node(BaseNode):\n",
    "    def delete_duplicate_nodes(self):\n",
    "        n = self\n",
    "        value = self._value\n",
    "        while n._next is not None:\n",
    "            if n._next._value == value:\n",
    "                n._next = n._next._next\n",
    "            else:\n",
    "                n = n._next\n",
    "                \n",
    "    def delete_all_duplicates(self):\n",
    "        n = self\n",
    "        while n._next is not None:\n",
    "            n.delete_duplicate_nodes()\n",
    "            n = n._next\n",
    "            \n",
    "            "
   ]
  },
  {
   "cell_type": "code",
   "execution_count": 60,
   "metadata": {},
   "outputs": [],
   "source": [
    "# Simple Tests\n",
    "m = build_linked_list(Node, [10,20,20,10,50])\n",
    "\n",
    "m.delete_duplicate_nodes()\n",
    "assert m.return_values_as_list() == [10,20,20,50]\n",
    "\n",
    "m = build_linked_list(Node, [10,20,20,10,50])\n",
    "\n",
    "m.delete_all_duplicates()\n",
    "assert m.return_values_as_list() == [10,20,50]\n"
   ]
  },
  {
   "cell_type": "markdown",
   "metadata": {},
   "source": [
    "### 2.2"
   ]
  },
  {
   "cell_type": "code",
   "execution_count": 70,
   "metadata": {},
   "outputs": [],
   "source": [
    "class Node(BaseNode):\n",
    "    def length(self):\n",
    "        n = self\n",
    "        count = 1\n",
    "        while n._next is not None:\n",
    "            n = n._next\n",
    "            count +=1\n",
    "        return count\n",
    "    def get_negative_element(self, n_index):\n",
    "        index = self.length() - n_index\n",
    "        return self.get_value_at_index(index)\n",
    "        \n",
    "        "
   ]
  },
  {
   "cell_type": "code",
   "execution_count": null,
   "metadata": {
    "collapsed": true
   },
   "outputs": [],
   "source": [
    "# Simple Tests\n",
    "m = build_linked_list(Node, [10,20,20,10,50])\n",
    "\n",
    "assert 50 ==  m.get_negative_element(1)\n",
    "assert 10 ==  m.get_negative_element(2)\n",
    "assert 20 ==  m.get_negative_element(3)\n",
    "assert 20 ==  m.get_negative_element(4)"
   ]
  },
  {
   "cell_type": "markdown",
   "metadata": {},
   "source": [
    "### 2.3 delete a node in the middle of linked list given access to only that node."
   ]
  },
  {
   "cell_type": "code",
   "execution_count": 134,
   "metadata": {
    "collapsed": true
   },
   "outputs": [],
   "source": [
    "#ideally you could just put the address of the next node here, but that isn't possibnle with python\n",
    "class Node(BaseNode):\n",
    "    def delete_node(self):\n",
    "        n = self\n",
    "        n._value = n._next._value\n",
    "        n._next = n._next._next    \n"
   ]
  },
  {
   "cell_type": "code",
   "execution_count": 140,
   "metadata": {
    "collapsed": true
   },
   "outputs": [],
   "source": [
    "# Simple Tests\n",
    "m = build_linked_list(Node, [10,20,20,10,50])\n",
    "\n",
    "m2 = m._next\n",
    "m2.delete_node()\n",
    "assert m.return_values_as_list() == [10,20,10,50]"
   ]
  },
  {
   "cell_type": "markdown",
   "metadata": {},
   "source": [
    "### 2.4 two numbers represnted by a linked list, where each node contains a single digit. The digits are stored in reverse order, such that the 1's digit is at he head of the list. Write a function that adds the two numbers and returns the sum as a linked list."
   ]
  },
  {
   "cell_type": "code",
   "execution_count": 141,
   "metadata": {},
   "outputs": [],
   "source": [
    "import math\n",
    "\n",
    "class Node(BaseNode):\n",
    "    def get_sum(self):\n",
    "        n = self\n",
    "        count = 1\n",
    "        value = n._value\n",
    "        while n._next != None:\n",
    "            n = n._next\n",
    "            value += n._value * 10**count\n",
    "            count+=1\n",
    "            \n",
    "        return value\n",
    "\n",
    "def get_digit(number, n):\n",
    "    return number // 10**n % 10\n",
    "\n",
    "def get_int_length(n):\n",
    "    return int(math.log10(n))+1\n",
    "\n",
    "def sum_linked_list(l1, l2):\n",
    "    \n",
    "    sum = l1.get_sum() + l2.get_sum()\n",
    "\n",
    "    l = map(lambda x: get_digit(sum, x), range(get_int_length(sum)))\n",
    "        \n",
    "    return build_linked_list(Node, l) \n",
    "    \n",
    "    "
   ]
  },
  {
   "cell_type": "code",
   "execution_count": 142,
   "metadata": {},
   "outputs": [],
   "source": [
    "l1 = build_linked_list(Node, [3,1,5])\n",
    "l2 = build_linked_list(Node, [5,9,2])\n",
    "\n",
    "l3 = sum_linked_list(l1,l2)\n",
    "assert l3.return_values_as_list() == [8,0,8]"
   ]
  },
  {
   "cell_type": "markdown",
   "metadata": {},
   "source": [
    "### 2.5  circular linked list , implement an algorithm which returns node at the beginning of the loop "
   ]
  },
  {
   "cell_type": "code",
   "execution_count": 127,
   "metadata": {},
   "outputs": [],
   "source": [
    "# make a circular linked list \n",
    "n = build_linked_list(BaseNode, [1,2,3,4])\n",
    "n._next._next._next._next = n"
   ]
  },
  {
   "cell_type": "code",
   "execution_count": 128,
   "metadata": {
    "collapsed": true
   },
   "outputs": [],
   "source": [
    "def find_loop_start(n):\n",
    "    hash = {}\n",
    "    while n is not None:\n",
    "        if hash.get(id(n), None) is None:\n",
    "            hash[id(n)] = True\n",
    "        else:\n",
    "            return n\n",
    "            \n",
    "        n = n._next\n",
    "        "
   ]
  },
  {
   "cell_type": "code",
   "execution_count": 129,
   "metadata": {},
   "outputs": [],
   "source": [
    "assert find_loop_start(n)._value == 1"
   ]
  }
 ],
 "metadata": {
  "kernelspec": {
   "display_name": "Python 2",
   "language": "python",
   "name": "python2"
  },
  "language_info": {
   "codemirror_mode": {
    "name": "ipython",
    "version": 2
   },
   "file_extension": ".py",
   "mimetype": "text/x-python",
   "name": "python",
   "nbconvert_exporter": "python",
   "pygments_lexer": "ipython2",
   "version": "2.7.6"
  }
 },
 "nbformat": 4,
 "nbformat_minor": 2
}

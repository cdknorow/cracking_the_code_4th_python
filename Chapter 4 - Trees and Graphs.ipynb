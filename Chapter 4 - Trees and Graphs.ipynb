{
 "cells": [
  {
   "cell_type": "markdown",
   "metadata": {},
   "source": [
    "### Binary Trees\n",
    "\n",
    "* In-Order: Traverse left node, current node, then right [usually used for binary search trees]\n",
    "    \n",
    "* Pre-Order: Traverse current node, then left node, then right node\n",
    "    \n",
    "* Post-Order: Traverse left node, then right node, then current node\n",
    "\n",
    "* Insert Node: On a binary search tree, we insert a value v, by comparing it to the root  If v > root, we go right, and else we go left  We do this until we hit an empty spot in the tree "
   ]
  },
  {
   "cell_type": "code",
   "execution_count": 52,
   "metadata": {
    "collapsed": true
   },
   "outputs": [],
   "source": [
    "class Node:\n",
    "    def __init__(self, value):\n",
    "        self._value = value\n",
    "        self._l = None\n",
    "        self._r = None\n",
    "\n",
    "\n",
    "def add_node(node, value):\n",
    "    if node._value >= value:\n",
    "        if node._l is None:\n",
    "            node._l = Node(value)\n",
    "        else:\n",
    "            add_node(node._l, value)\n",
    "            \n",
    "    elif node._r is None:\n",
    "        node._r = Node(value)\n",
    "    else: \n",
    "        add_node(node._r, value)   \n",
    "        \n",
    "def in_order(node, ordered=[]):\n",
    "    if node:\n",
    "        ordered = ordered + in_order(node._l, ordered)\n",
    "        ordered = ordered + [node._value]\n",
    "        ordered = ordered + in_order(node._r)\n",
    "        \n",
    "    return ordered\n",
    "\n",
    "def pre_order(node):\n",
    "    if node:      \n",
    "        print node._value\n",
    "        pre_order(node._l)\n",
    "        pre_order(node._r)        \n",
    "\n",
    "def post_order(node):\n",
    "    if node:      \n",
    "        post_order(node._l)\n",
    "        post_order(node._r)           \n",
    "        print node._value\n",
    "        "
   ]
  },
  {
   "cell_type": "code",
   "execution_count": 53,
   "metadata": {},
   "outputs": [
    {
     "data": {
      "text/plain": [
       "[10, 20, 30, 40, 50, 50, 60, 70, 80, 90, 100, 200]"
      ]
     },
     "execution_count": 53,
     "metadata": {},
     "output_type": "execute_result"
    }
   ],
   "source": [
    "root = Node(50)\n",
    "add_node(root,30)\n",
    "add_node(root,20)\n",
    "add_node(root,10)\n",
    "add_node(root,40)\n",
    "add_node(root,50)\n",
    "add_node(root,70)\n",
    "add_node(root,60)\n",
    "add_node(root,80)\n",
    "add_node(root,90)\n",
    "add_node(root,100)\n",
    "add_node(root,200)\n",
    "\n",
    "in_order(root)\n",
    "#pre_order(root)\n",
    "#post_order(root)"
   ]
  },
  {
   "cell_type": "markdown",
   "metadata": {},
   "source": [
    "### 4.1 \n",
    "\n",
    "Find out if the tree is balanced. ie no two leaf nodes differ in distance from the root by more than one. "
   ]
  },
  {
   "cell_type": "code",
   "execution_count": 20,
   "metadata": {
    "collapsed": true
   },
   "outputs": [],
   "source": [
    "def find_min_depth(root):\n",
    "    \n",
    "    if root is None:\n",
    "        return 0\n",
    "    \n",
    "    l = 1 + find_min_depth(root._l)\n",
    "    r = 1 + find_min_depth(root._r)\n",
    "    \n",
    "    return min(l,r)\n",
    "    \n",
    "def find_max_depth(root):\n",
    "    \n",
    "    if root is None:\n",
    "        return 0\n",
    "    \n",
    "    l = 1 + find_max_depth(root._l)\n",
    "    r = 1 + find_max_depth(root._r)\n",
    "    \n",
    "    return max(l,r)\n",
    "\n",
    "def is_balanced(root):\n",
    "    if abs(find_min_depth(root) - find_max_depth(root)) <= 1:\n",
    "        return True\n",
    "    \n",
    "    return False"
   ]
  },
  {
   "cell_type": "code",
   "execution_count": 27,
   "metadata": {
    "collapsed": true
   },
   "outputs": [],
   "source": [
    "root = Node(50)\n",
    "add_node(root,30)\n",
    "add_node(root,20)\n",
    "add_node(root,10)\n",
    "add_node(root,40)\n",
    "add_node(root,50)\n",
    "add_node(root,70)\n",
    "add_node(root,60)\n",
    "add_node(root,80)\n",
    "\n",
    "assert is_balanced(root) == True\n",
    "\n",
    "add_node(root,90)\n",
    "add_node(root,100)\n",
    "add_node(root,200)\n",
    "\n",
    "assert is_balanced(root) == False"
   ]
  },
  {
   "cell_type": "markdown",
   "metadata": {},
   "source": [
    "### directed graph"
   ]
  },
  {
   "cell_type": "code",
   "execution_count": 122,
   "metadata": {
    "collapsed": true
   },
   "outputs": [],
   "source": [
    " graph = {'A': ['B', 'C',],\n",
    "             'B': ['C', 'D'],\n",
    "             'C': ['D'],\n",
    "             'D': ['C'],\n",
    "             'E': ['F'],\n",
    "             'F': ['C']}"
   ]
  },
  {
   "cell_type": "markdown",
   "metadata": {},
   "source": [
    "### 4.2\n",
    "\n",
    "find out whether there is a route between two nodes \n",
    " "
   ]
  },
  {
   "cell_type": "code",
   "execution_count": 130,
   "metadata": {
    "collapsed": true
   },
   "outputs": [],
   "source": [
    "def find_path(graph, start, end, path=[]):\n",
    "    \n",
    "    #path.append(start)\n",
    "    path = path + [start]\n",
    "    \n",
    "    if start == end:\n",
    "        return [path]\n",
    "    \n",
    "    for node in graph[start]:\n",
    "        if node not in path:\n",
    "            new_path = find_path(graph, node, end, path)\n",
    "            if new_path: return new_path\n",
    "        \n",
    "    return None\n",
    "            \n",
    "        "
   ]
  },
  {
   "cell_type": "code",
   "execution_count": 131,
   "metadata": {
    "collapsed": true
   },
   "outputs": [],
   "source": [
    "def find_all_paths(graph, start, end, path=[]):\n",
    "    \n",
    "    path = path + [start]\n",
    "    #path.append(start)\n",
    "    \n",
    "    if start == end:\n",
    "        return [path]\n",
    "    if not graph.has_key(start):\n",
    "        return []\n",
    "    \n",
    "    paths = []\n",
    "    \n",
    "    for node in graph[start]:\n",
    "        if node not in path:\n",
    "            new_paths = find_all_paths(graph, node, end, path)\n",
    "            for new_path in new_paths:\n",
    "                paths.append(new_path)\n",
    "    \n",
    "    return paths\n",
    "    "
   ]
  },
  {
   "cell_type": "code",
   "execution_count": 132,
   "metadata": {
    "collapsed": true
   },
   "outputs": [],
   "source": [
    "assert find_path(graph, 'A', 'E') == None\n",
    "assert len(find_path(graph, 'A', 'B')) > 0"
   ]
  },
  {
   "cell_type": "markdown",
   "metadata": {},
   "source": [
    "### 4.3\n",
    "\n",
    "Given a sorted (increasing order) array, write an algorithm to create a binary tree with minimal height "
   ]
  },
  {
   "cell_type": "code",
   "execution_count": 41,
   "metadata": {},
   "outputs": [],
   "source": [
    "def split_middle(M):\n",
    "    s = len(M)/2\n",
    "    return M[:s], M[s+1:], M[s]"
   ]
  },
  {
   "cell_type": "code",
   "execution_count": 42,
   "metadata": {
    "collapsed": true
   },
   "outputs": [],
   "source": [
    "def generate_minimal_binary_tree(M):\n",
    "    \n",
    "    if len(M) > 0:\n",
    "        L, R, value = split_middle(M)\n",
    "        node = Node(value)\n",
    "        node._l = generate_minimal_binary_tree(L)\n",
    "        node._r = generate_minimal_binary_tree(R)\n",
    "    \n",
    "        return node\n",
    "\n",
    "    \n",
    "    return None\n",
    "    "
   ]
  },
  {
   "cell_type": "code",
   "execution_count": 57,
   "metadata": {},
   "outputs": [],
   "source": [
    "M = range(99)\n",
    "node = generate_minimal_binary_tree(M)\n",
    "assert in_order(node) == range(99)\n",
    "assert is_balanced(node)"
   ]
  },
  {
   "cell_type": "code",
   "execution_count": null,
   "metadata": {
    "collapsed": true
   },
   "outputs": [],
   "source": []
  }
 ],
 "metadata": {
  "kernelspec": {
   "display_name": "Python 2",
   "language": "python",
   "name": "python2"
  },
  "language_info": {
   "codemirror_mode": {
    "name": "ipython",
    "version": 2
   },
   "file_extension": ".py",
   "mimetype": "text/x-python",
   "name": "python",
   "nbconvert_exporter": "python",
   "pygments_lexer": "ipython2",
   "version": "2.7.6"
  }
 },
 "nbformat": 4,
 "nbformat_minor": 2
}

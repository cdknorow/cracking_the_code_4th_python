{
 "cells": [
  {
   "cell_type": "markdown",
   "metadata": {},
   "source": [
    "### Binary Trees\n",
    "\n",
    "* In-Order: Traverse left node, current node, then right [usually used for binary search trees]\n",
    "    \n",
    "* Pre-Order: Traverse current node, then left node, then right node\n",
    "    \n",
    "* Post-Order: Traverse left node, then right node, then current node\n",
    "\n",
    "* Insert Node: On a binary search tree, we insert a value v, by comparing it to the root  If v > root, we go right, and else we go left  We do this until we hit an empty spot in the tree "
   ]
  },
  {
   "cell_type": "code",
   "execution_count": 56,
   "metadata": {},
   "outputs": [],
   "source": [
    "class Node:\n",
    "    def __init__(self, value):\n",
    "        self._value = value\n",
    "        self._l = None\n",
    "        self._r = None\n",
    "\n",
    "\n",
    "def add_node(node, value):\n",
    "    if node._value >= value:\n",
    "        if node._l is None:\n",
    "            node._l = Node(value)\n",
    "        else:\n",
    "            add_node(node._l, value)\n",
    "            \n",
    "    elif node._r is None:\n",
    "        node._r = Node(value)\n",
    "    else: \n",
    "        add_node(node._r, value)   \n",
    "        \n",
    "def in_order(node):\n",
    "    if node:\n",
    "        in_order(node._l)\n",
    "        print node._value\n",
    "        in_order(node._r)\n",
    "\n",
    "def pre_order(node):\n",
    "    if node:      \n",
    "        print node._value\n",
    "        pre_order(node._l)\n",
    "        pre_order(node._r)        \n",
    "\n",
    "def post_order(node):\n",
    "    if node:      \n",
    "        post_order(node._l)\n",
    "        post_order(node._r)           \n",
    "        print node._value\n",
    "        "
   ]
  },
  {
   "cell_type": "code",
   "execution_count": 72,
   "metadata": {},
   "outputs": [
    {
     "name": "stdout",
     "output_type": "stream",
     "text": [
      "10\n",
      "20\n",
      "30\n",
      "40\n",
      "50\n",
      "50\n",
      "60\n",
      "70\n",
      "80\n"
     ]
    }
   ],
   "source": [
    "root = Node(50)\n",
    "add_node(root,30)\n",
    "add_node(root,20)\n",
    "add_node(root,10)\n",
    "add_node(root,40)\n",
    "add_node(root,50)\n",
    "add_node(root,70)\n",
    "add_node(root,60)\n",
    "add_node(root,80)\n",
    "\n",
    "in_order(root)\n",
    "#pre_order(root)\n",
    "#post_order(root)"
   ]
  },
  {
   "cell_type": "code",
   "execution_count": null,
   "metadata": {
    "collapsed": true
   },
   "outputs": [],
   "source": []
  }
 ],
 "metadata": {
  "kernelspec": {
   "display_name": "Python 2",
   "language": "python",
   "name": "python2"
  },
  "language_info": {
   "codemirror_mode": {
    "name": "ipython",
    "version": 2
   },
   "file_extension": ".py",
   "mimetype": "text/x-python",
   "name": "python",
   "nbconvert_exporter": "python",
   "pygments_lexer": "ipython2",
   "version": "2.7.6"
  }
 },
 "nbformat": 4,
 "nbformat_minor": 2
}
